{
 "cells": [
  {
   "cell_type": "code",
   "execution_count": 68,
   "id": "1abdc8b7-736d-42d9-9e59-79d009cd7f57",
   "metadata": {},
   "outputs": [],
   "source": [
    "%matplotlib ipympl\n",
    "from matplotlib import pyplot as plt\n",
    "from matplotlib.animation import FuncAnimation\n",
    "from random import randrange\n",
    "import threading\n",
    "import time\n",
    "import numpy as np\n",
    "import pandas as pd\n",
    "from datetime import datetime\n",
    "import serial\n",
    "import tkinter as tk\n",
    "import time\n",
    "import ipywidgets as widgets"
   ]
  },
  {
   "cell_type": "code",
   "execution_count": 94,
   "id": "1d734391-8a6e-4008-8fe4-9cfcd83a35bd",
   "metadata": {},
   "outputs": [],
   "source": [
    "%matplotlib ipympl\n",
    "from matplotlib import pyplot as plt\n",
    "from matplotlib.animation import FuncAnimation\n",
    "from random import randrange\n",
    "import threading\n",
    "import time\n",
    "import numpy as np\n",
    "import pandas as pd\n",
    "from datetime import datetime\n",
    "import serial\n",
    "import tkinter as tk\n",
    "import time\n",
    "import ipywidgets as widgets\n",
    "class LiveGraph:\n",
    "    def __init__(self, port_name='/dev/cu.usbmodem145201', filename=None, \n",
    "                 host_sync=True, hot_temp=42.0, cold_temp=30.0, \n",
    "                 period_sec=1200.0, hot_duration_sec=600.0, send_interval_sec=0.5):\n",
    "        # --- Logging/file ---\n",
    "        self.filename = filename\n",
    "\n",
    "        # --- Host-driving settings ---\n",
    "        self.host_sync = bool(host_sync)\n",
    "        self.hot_temp = float(hot_temp)\n",
    "        self.cold_temp = float(cold_temp)\n",
    "        self.period_sec = float(period_sec)\n",
    "        self.hot_duration_sec = float(hot_duration_sec)\n",
    "        self.cold_duration_sec = self.period_sec - self.hot_duration_sec\n",
    "        self.send_interval_sec = float(send_interval_sec)\n",
    "        self.start_epoch = time.time()\n",
    "        phase = (time.time() - self.start_epoch) % self.period_sec\n",
    "        self._last_host_target = self.hot_temp if phase < self.hot_duration_sec else self.cold_temp\n",
    "        self._stop_event = threading.Event()\n",
    "\n",
    "        # --- Dataframe ---\n",
    "        columns = [\"Real_time\", \"Serial_time\", \"Current_temp\", \"Target_temp\",\n",
    "                   \"Heating_output\", \"Temp_diff\", \"Is_Heating\"]\n",
    "        self.df = pd.DataFrame(columns=columns)\n",
    "        self.maxRows = 6000\n",
    "\n",
    "        # --- Widgets ---\n",
    "        self.button = widgets.Button(description=\"STOP!\")\n",
    "        self.output = widgets.Output()\n",
    "        self.break_cycle = False\n",
    "        self.button.on_click(self.on_button_clicked)\n",
    "\n",
    "        self.text_input = widgets.Text(description=\"Send to Arduino:\")\n",
    "        self.text_input.on_submit(self.on_text_submit)\n",
    "\n",
    "        # --- Plot ---\n",
    "        self.figure, self.axes = plt.subplots(3)\n",
    "        self.lines = []\n",
    "        self.texts = []\n",
    "        color = ['b', 'r', 'b', 'b']\n",
    "        self.coli = [\"Target_temp\", \"Current_temp\", \"Temp_diff\", \"Heating_output\", \"Is_Heating\"]\n",
    "        for i, n, c in zip([0, 0, 1, 2], self.coli, color):\n",
    "            line, = self.axes[i].plot_date([], [], c, label=n, ls='-', marker='None')\n",
    "            self.lines.append(line)\n",
    "            text = self.axes[i].text(0, 0, ' ', color=c)\n",
    "            self.texts.append(text)\n",
    "        for ax in self.axes:\n",
    "            ax.legend(loc=\"upper left\")\n",
    "\n",
    "        # --- Serial ---\n",
    "        self.port = port_name\n",
    "        self.ser = serial.Serial(self.port, 9600, timeout=1.3)\n",
    "        time.sleep(2)\n",
    "        self.ser.flush()\n",
    "\n",
    "        # --- Animation ---\n",
    "        self.animation = FuncAnimation(self.figure, self.update, interval=1000, cache_frame_data=False)\n",
    "\n",
    "        # --- Reader thread ---\n",
    "        self.th = threading.Thread(target=self.thread_f, daemon=True)\n",
    "        self.th.start()\n",
    "\n",
    "        # --- Host-sync thread ---\n",
    "        if self.host_sync:\n",
    "            self._sync_thread = threading.Thread(target=self._host_sync_loop, daemon=True)\n",
    "            self._sync_thread.start()\n",
    "\n",
    "    # Background loop that drives Arduino setpoints based on host clock\n",
    "    def _host_sync_loop(self):\n",
    "        while not self._stop_event.is_set():\n",
    "            phase = (time.time() - self.start_epoch) % self.period_sec\n",
    "            target = self.hot_temp if phase < self.hot_duration_sec else self.cold_temp\n",
    "\n",
    "            try:\n",
    "                self.ser.write(f\"{int(round(target))}\\n\".encode())\n",
    "                self._last_host_target = target\n",
    "\n",
    "                epsilon = 0.25\n",
    "                near_hot_cold = (abs(phase - self.hot_duration_sec) < epsilon) or (abs(phase - self.period_sec) < epsilon)\n",
    "                if near_hot_cold:\n",
    "                    time.sleep(0.05)\n",
    "                    self.ser.write(f\"{int(round(target))}\\n\".encode())\n",
    "\n",
    "            except Exception as e:\n",
    "                print(\"Serial write failed in host loop:\", e)\n",
    "                time.sleep(0.1)\n",
    "\n",
    "            time.sleep(self.send_interval_sec)\n",
    "\n",
    "    # --- Plot updater ---\n",
    "    def update(self, frame):\n",
    "        if len(self.df) > 0:\n",
    "            for (li, te, col) in zip(self.lines, self.texts, self.coli):\n",
    "                li.set_data(self.df['Real_time'], self.df[col])\n",
    "                try:\n",
    "                    te.set_position((self.df['Real_time'].iloc[-1], self.df[col].iloc[-1]))\n",
    "                    te.set_text(round(float(self.df[col].iloc[-1]), 2))\n",
    "                except Exception:\n",
    "                    pass\n",
    "            for ax in self.axes:\n",
    "                ax.relim()\n",
    "                ax.autoscale_view()\n",
    "\n",
    "        if self.break_cycle:\n",
    "            self.animation.event_source.stop()\n",
    "        return self.lines\n",
    "\n",
    "    # --- STOP button handler ---\n",
    "    def on_button_clicked(self, event):\n",
    "        print(\"Button pressed: break_cycle:\", self.break_cycle)\n",
    "        self.break_cycle = True\n",
    "        try:\n",
    "            self._stop_event.set()\n",
    "            self.ser.close()\n",
    "        except Exception:\n",
    "            pass\n",
    "\n",
    "    # --- Text input to Arduino ---\n",
    "    def on_text_submit(self, text_widget):\n",
    "        value = text_widget.value\n",
    "        print(f\"Sending to Arduino: {value}\")\n",
    "        try:\n",
    "            self.ser.write((value + '\\n').encode())\n",
    "        except Exception as e:\n",
    "            print(\"Serial write failed:\", e)\n",
    "        text_widget.value = \"\"\n",
    "\n",
    "    # --- Show UI ---\n",
    "    def show(self):\n",
    "        plt.show()\n",
    "        display(self.button, self.text_input, self.output)\n",
    "\n",
    "    # --- Serial reader ---\n",
    "    def thread_f(self):\n",
    "        while not self.break_cycle:\n",
    "            line = self.ser.readline().decode(errors='ignore').strip()\n",
    "            nums = line.split()\n",
    "            if len(nums) == 5:\n",
    "                try:\n",
    "                    values = [float(num) for num in nums[0:4]]\n",
    "                    arduino_millis = values[0]\n",
    "                    curr_temp      = values[1]\n",
    "                    arduino_target = values[2]\n",
    "                    heater_output  = values[3]\n",
    "                    is_heating     = nums[4]\n",
    "\n",
    "                    if self.host_sync and (self._last_host_target is not None):\n",
    "                        host_target = float(self._last_host_target)\n",
    "                    else:\n",
    "                        host_target = arduino_target\n",
    "\n",
    "                    temp_df = pd.DataFrame({\n",
    "                        \"Real_time\":       [pd.Timestamp.now()],\n",
    "                        \"Serial_time\":     [arduino_millis / 1000.0],\n",
    "                        \"Current_temp\":    [curr_temp],\n",
    "                        \"Target_temp\":     [host_target],\n",
    "                        \"Heating_output\":  [heater_output],\n",
    "                        \"Temp_diff\":       [curr_temp - host_target],\n",
    "                        \"Is_Heating\":      [is_heating],\n",
    "                        \"Arduino_Target\":  [arduino_target],\n",
    "                        \"Host_Target\":     [host_target],\n",
    "                    })\n",
    "\n",
    "                    self.df = pd.concat([self.df, temp_df], ignore_index=True)\n",
    "                    if self.filename is not None:\n",
    "                        temp_df.to_csv(self.filename, mode='a',\n",
    "                                       header=not os.path.exists(self.filename), index=False)\n",
    "                    if len(self.df) > self.maxRows:\n",
    "                        self.df = self.df.tail(self.maxRows)\n",
    "\n",
    "                except Exception as err:\n",
    "                    print(f\"Unexpected {err=}, {type(err)=}\")\n",
    "                    print(f\"The serial out put is {line=}\")\n",
    "\n",
    "            time.sleep(0.001)\n",
    "\n",
    "\n",
    "\n",
    "\n"
   ]
  },
  {
   "cell_type": "markdown",
   "id": "faf43eea-f8af-4c69-aa07-b0da1aaa78ea",
   "metadata": {},
   "source": [
    "# Running the program\n"
   ]
  },
  {
   "cell_type": "code",
   "execution_count": 95,
   "id": "90afca98-51cb-4a61-9865-d3587679839f",
   "metadata": {
    "scrolled": true
   },
   "outputs": [
    {
     "name": "stderr",
     "output_type": "stream",
     "text": [
      "/var/folders/1z/90h8gx3n6tb7kp5_zfqsbkv00000gn/T/ipykernel_39253/1818729612.py:47: DeprecationWarning: on_submit is deprecated. Instead, set the .continuous_update attribute to False and observe the value changing with: mywidget.observe(callback, 'value').\n",
      "  self.text_input.on_submit(self.on_text_submit)\n",
      "/var/folders/1z/90h8gx3n6tb7kp5_zfqsbkv00000gn/T/ipykernel_39253/1818729612.py:56: MatplotlibDeprecationWarning: The plot_date function was deprecated in Matplotlib 3.9 and will be removed in 3.11. Use plot instead.\n",
      "  line, = self.axes[i].plot_date([], [], c, label=n, ls='-', marker='None')\n",
      "/var/folders/1z/90h8gx3n6tb7kp5_zfqsbkv00000gn/T/ipykernel_39253/1818729612.py:177: FutureWarning: The behavior of DataFrame concatenation with empty or all-NA entries is deprecated. In a future version, this will no longer exclude empty or all-NA columns when determining the result dtypes. To retain the old behavior, exclude the relevant entries before the concat operation.\n",
      "  self.df = pd.concat([self.df, temp_df], ignore_index=True)\n"
     ]
    },
    {
     "data": {
      "application/vnd.jupyter.widget-view+json": {
       "model_id": "f1cedb207d3e44cf97d354481dfedd99",
       "version_major": 2,
       "version_minor": 0
      },
      "image/png": "[encoded data removed]",
      "text/html": [
       "\n",
       "            <div style=\"display: inline-block;\">\n",
       "                <div class=\"jupyter-widgets widget-label\" style=\"text-align: center;\">\n",
       "                    Figure\n",
       "                </div>\n",
       "                <img src='data:image/png;base64,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' width=640.0/>\n",
       "            </div>\n",
       "        "
      ],
      "text/plain": [
       "Canvas(toolbar=Toolbar(toolitems=[('Home', 'Reset original view', 'home', 'home'), ('Back', 'Back to previous …"
      ]
     },
     "metadata": {},
     "output_type": "display_data"
    },
    {
     "data": {
      "application/vnd.jupyter.widget-view+json": {
       "model_id": "b1804fdee2874158830268a410f2d716",
       "version_major": 2,
       "version_minor": 0
      },
      "text/plain": [
       "Button(description='STOP!', style=ButtonStyle())"
      ]
     },
     "metadata": {},
     "output_type": "display_data"
    },
    {
     "data": {
      "application/vnd.jupyter.widget-view+json": {
       "model_id": "7d00386503d44219a1ab2fba9d95b6db",
       "version_major": 2,
       "version_minor": 0
      },
      "text/plain": [
       "Text(value='', description='Send to Arduino:')"
      ]
     },
     "metadata": {},
     "output_type": "display_data"
    },
    {
     "data": {
      "application/vnd.jupyter.widget-view+json": {
       "model_id": "a0a0f56c3e374fb48068943012f6176b",
       "version_major": 2,
       "version_minor": 0
      },
      "text/plain": [
       "Output()"
      ]
     },
     "metadata": {},
     "output_type": "display_data"
    },
    {
     "name": "stderr",
     "output_type": "stream",
     "text": [
      "Exception in thread Thread-85:\n",
      "Traceback (most recent call last):\n",
      "  File \"/Users/joshuabeard/Library/Python/3.9/lib/python/site-packages/serial/serialposix.py\", line 565, in read\n",
      "    ready, _, _ = select.select([self.fd, self.pipe_abort_read_r], [], [], timeout.time_left())\n",
      "OSError: [Errno 9] Bad file descriptor\n",
      "\n",
      "During handling of the above exception, another exception occurred:\n",
      "\n",
      "Traceback (most recent call last):\n",
      "  File \"/Library/Developer/CommandLineTools/Library/Frameworks/Python3.framework/Versions/3.9/lib/python3.9/threading.py\", line 973, in _bootstrap_inner\n",
      "    self.run()\n",
      "  File \"/Users/joshuabeard/Library/Python/3.9/lib/python/site-packages/ipykernel/ipkernel.py\", line 766, in run_closure\n",
      "    _threading_Thread_run(self)\n",
      "  File \"/Library/Developer/CommandLineTools/Library/Frameworks/Python3.framework/Versions/3.9/lib/python3.9/threading.py\", line 910, in run\n",
      "    self._target(*self._args, **self._kwargs)\n",
      "  File \"/var/folders/1z/90h8gx3n6tb7kp5_zfqsbkv00000gn/T/ipykernel_39253/1818729612.py\", line 149, in thread_f\n",
      "  File \"/Users/joshuabeard/Library/Python/3.9/lib/python/site-packages/serial/serialposix.py\", line 581, in read\n",
      "    raise SerialException('read failed: {}'.format(e))\n",
      "serial.serialutil.SerialException: read failed: [Errno 9] Bad file descriptor\n"
     ]
    }
   ],
   "source": [
    "g = LiveGraph(filename = \"2025_8_15.csv\")\n",
    "g.show()"
   ]
  },
  {
   "cell_type": "markdown",
   "id": "4ea989cd-de2a-40e4-8294-aa08a23a645d",
   "metadata": {},
   "source": [
    "# Save your results!"
   ]
  },
  {
   "cell_type": "code",
   "execution_count": null,
   "id": "98d59fc4-c6ae-4c13-a437-2be80b0e4cd1",
   "metadata": {},
   "outputs": [],
   "source": [
    "g.df.to_csv(r'C:\\Users\\Wiggi\\Desktop\\James\\temp_data\\1_10_2025.csv')"
   ]
  },
  {
   "cell_type": "code",
   "execution_count": null,
   "id": "d1c7ccc1-9d0e-418e-ab06-b8284e934870",
   "metadata": {
    "scrolled": true
   },
   "outputs": [],
   "source": [
    "%pip install pyserial pandas numpy matplotlib ipywidgets\n"
   ]
  },
  {
   "cell_type": "code",
   "execution_count": null,
   "id": "fa44e7b6-b467-43e1-b44f-e86e81916f02",
   "metadata": {},
   "outputs": [],
   "source": [
    "import serial, serial.tools.list_ports\n",
    "\n",
    "# get all ports\n",
    "ports = serial.tools.list_ports.comports()\n",
    "port_list = [port.device for port in ports]\n",
    "print(\"Available ports:\", port_list)\n",
    "\n",
    "# open the first available port (if any)\n",
    "if port_list:\n",
    "    ser = serial.Serial(port_list[0], 9600, timeout=1.3)\n",
    "    print(\"Opened:\", ser.port)\n",
    "else:\n",
    "    print(\"No serial ports found!\")\n",
    "  \n"
   ]
  },
  {
   "cell_type": "code",
   "execution_count": null,
   "id": "bdf3291a-6f3d-436e-b7ec-b082c21e3dcf",
   "metadata": {},
   "outputs": [],
   "source": [
    "serial.Serial('/dev/cu.usbmodem145301', 9600, timeout=1.3)"
   ]
  },
  {
   "cell_type": "code",
   "execution_count": null,
   "id": "ff5183e8-e0b8-48a6-93b5-640c5bf16fd2",
   "metadata": {},
   "outputs": [],
   "source": [
    "import serial.tools.list_ports\n",
    "print(list(serial.tools.list_ports.comports()))"
   ]
  }
 ],
 "metadata": {
  "kernelspec": {
   "display_name": "Python 3 (ipykernel)",
   "language": "python",
   "name": "python3"
  },
  "language_info": {
   "codemirror_mode": {
    "name": "ipython",
    "version": 3
   },
   "file_extension": ".py",
   "mimetype": "text/x-python",
   "name": "python",
   "nbconvert_exporter": "python",
   "pygments_lexer": "ipython3",
   "version": "3.9.6"
  }
 },
 "nbformat": 4,
 "nbformat_minor": 5
}
