{
 "cells": [
  {
   "cell_type": "code",
   "execution_count": null,
   "id": "1abdc8b7-736d-42d9-9e59-79d009cd7f57",
   "metadata": {},
   "outputs": [],
   "source": [
    "%matplotlib ipympl\n",
    "from matplotlib import pyplot as plt\n",
    "from matplotlib.animation import FuncAnimation\n",
    "from random import randrange\n",
    "import threading\n",
    "import time\n",
    "import numpy as np\n",
    "import pandas as pd\n",
    "from datetime import datetime\n",
    "import serial\n",
    "import tkinter as tk\n",
    "import time\n",
    "import ipywidgets as widgets"
   ]
  },
  {
   "cell_type": "code",
   "execution_count": 3,
   "id": "1d734391-8a6e-4008-8fe4-9cfcd83a35bd",
   "metadata": {},
   "outputs": [
    {
     "ename": "IndentationError",
     "evalue": "expected an indented block (2659044587.py, line 103)",
     "output_type": "error",
     "traceback": [
      "\u001b[0;36m  Cell \u001b[0;32mIn[3], line 103\u001b[0;36m\u001b[0m\n\u001b[0;31m    try:\u001b[0m\n\u001b[0m    ^\u001b[0m\n\u001b[0;31mIndentationError\u001b[0m\u001b[0;31m:\u001b[0m expected an indented block\n"
     ]
    }
   ],
   "source": [
    "%matplotlib ipympl\n",
    "from matplotlib import pyplot as plt\n",
    "from matplotlib.animation import FuncAnimation\n",
    "from random import randrange\n",
    "import threading\n",
    "import time\n",
    "import numpy as np\n",
    "import pandas as pd\n",
    "from datetime import datetime\n",
    "import serial\n",
    "import serial.tools.list_ports\n",
    "import traceback\n",
    "import tkinter as tk\n",
    "import time\n",
    "import ipywidgets as widgets\n",
    "import os\n",
    "# Class for live update of a graph\n",
    "class LiveGraph:\n",
    "    def __init__(self, port_name = '/dev/cu.usbmodem145301', filename = None):\n",
    "        # Setting csv file name\n",
    "        self.filename = filename\n",
    "        \n",
    "        # Setting the data\n",
    "        columns = [\"Real_time\", \"Serial_time\", \"Current_temp\", \"Target_temp\", \"Heating_output\", \"Temp_diff\", \"Is_Heating\"]\n",
    "        self.df = pd.DataFrame(columns = columns)\n",
    "        self.maxRows = 6000\n",
    "        \n",
    "        # Setting up the button\n",
    "        self.button = widgets.Button(description=\"STOP!\") \n",
    "        self.output = widgets.Output()\n",
    "        self.break_cycle = False\n",
    "        self.button.on_click(self.on_button_clicked)\n",
    "\n",
    "        # Setting input \n",
    "        self.text_input = widgets.Text(description=\"Send to Arduino:\")\n",
    "        self.text_input.on_submit(self.on_text_submit)\n",
    "        \n",
    "        # Setting up plot\n",
    "        self.figure, self.axes = plt.subplots(3)\n",
    "        self.lines = [] # Lines for the data\n",
    "        self.texts = [] # Text plot\n",
    "        color = ['b', 'r', 'b', 'b']\n",
    "        self.coli = [ \"Target_temp\", \"Current_temp\", \"Temp_diff\", \"Heating_output\", \"Is_Heating\"]\n",
    "        for i, n, c in zip([0, 0, 1, 2], self.coli, color):\n",
    "            line, = self.axes[i].plot_date([],[], c,label = n, ls = '-', marker='None')\n",
    "            self.lines.append(line)\n",
    "            text = self.axes[i].text(0,0,' ', color = c)\n",
    "            self.texts.append(text)\n",
    "        for ax in self.axes: ax.legend(loc=\"upper left\")\n",
    "            \n",
    "        # Setting up serial port\n",
    "        self.port = port_name\n",
    "        self.ser = serial.Serial(self.port, 9600, timeout=1.3)\n",
    "        time.sleep(2)\n",
    "        self.ser.flush()\n",
    "        \n",
    "        # Start animation\n",
    "        self.animation = FuncAnimation(self.figure, self.update, interval=1000, cache_frame_data=False)\n",
    "\n",
    "        # Start threading\n",
    "        self.th = threading.Thread(target=self.thread_f, daemon=True)\n",
    "        self.th.start()\n",
    "\n",
    "    \n",
    "    def update(self, frame):\n",
    "        for (li, te, col) in zip( self.lines, self.texts, self.coli):\n",
    "            li.set_data(self.df['Real_time'],self.df[col])\n",
    "            te.set_position((self.df['Real_time'].iloc[-1],self.df[col].iloc[-1]))\n",
    "            te.set_text(round(self.df[col].iloc[-1],2))\n",
    "            \n",
    "        for ax in self.axes:\n",
    "            ax.relim()\n",
    "            ax.autoscale_view()\n",
    "            \n",
    "        if self.break_cycle:\n",
    "            self.animation.event_source.stop()\n",
    "            \n",
    "        return self.lines\n",
    "\n",
    "    \n",
    "    def on_button_clicked(self, event):\n",
    "        print(\"Button pressed: break_cycle:\", self.break_cycle)\n",
    "        self.break_cycle = True\n",
    "        self.ser.close()\n",
    "        \n",
    "    def on_text_submit(self, text_widget):\n",
    "        value = text_widget.value\n",
    "        print(f\"Sending to Arduino: {value}\")\n",
    "        self.ser.write((value + '\\n').encode())  # Write to serial port\n",
    "        text_widget.value = \"\"  # Clear input after sending\n",
    "    \n",
    "    def show(self):\n",
    "        plt.show()\n",
    "        display(self.button, self.text_input, self.output)\n",
    "\n",
    "\n",
    "    def thread_f(self):\n",
    "        while not self.break_cycle:\n",
    "            # read the serial port \n",
    "            line = self.ser.readline().decode().strip()\n",
    "            nums = line.split()\n",
    "            if len(nums) == 5:\n",
    "                try:\n",
    "                    values = [float(num) for num in nums[0:4]]\n",
    "                    temp_df = pd.DataFrame({\"Real_time\":pd.Timestamp.now(), \n",
    "                                    \"Serial_time\":[values[0]/1000], \n",
    "                                    \"Current_temp\":[values[1]], \n",
    "                                    \"Target_temp\":[values[2]], \n",
    "                                    \"Heating_output\":[values[3]],\n",
    "                                    \"Temp_diff\":[values[1]-values[2]],\n",
    "                                    \"Is_Heating\": [nums[4]]})\n",
    "                    # Append your result into the dataframe\n",
    "                    self.df = pd.concat([self.df, temp_df], ignore_index=True)\n",
    "                    if self.filename is not None:\n",
    "                        temp_df.to_csv(self.filename, mode='a', header=not os.path.exists(self.filename))\n",
    "                    if len(self.df) > self.maxRows:\n",
    "                        self.df = self.df.tail(self.maxRows)\n",
    "                except Exception as err:\n",
    "                    print(f\"Unexpected {err=}, {type(err)=}\")\n",
    "                    print(f\"The serial out put is {line=}\")\n",
    "\n",
    "            time.sleep(0.001)\n"
   ]
  },
  {
   "cell_type": "markdown",
   "id": "faf43eea-f8af-4c69-aa07-b0da1aaa78ea",
   "metadata": {},
   "source": [
    "# Running the program\n"
   ]
  },
  {
   "cell_type": "code",
   "execution_count": 6,
   "id": "90afca98-51cb-4a61-9865-d3587679839f",
   "metadata": {
    "scrolled": true
   },
   "outputs": [
    {
     "ename": "NameError",
     "evalue": "name 'LiveGraph' is not defined",
     "output_type": "error",
     "traceback": [
      "\u001b[0;31m---------------------------------------------------------------------------\u001b[0m",
      "\u001b[0;31mNameError\u001b[0m                                 Traceback (most recent call last)",
      "Cell \u001b[0;32mIn[6], line 1\u001b[0m\n\u001b[0;32m----> 1\u001b[0m g \u001b[38;5;241m=\u001b[39m \u001b[43mLiveGraph\u001b[49m(filename \u001b[38;5;241m=\u001b[39m \u001b[38;5;124m\"\u001b[39m\u001b[38;5;124m2025_8_15.csv\u001b[39m\u001b[38;5;124m\"\u001b[39m)\n\u001b[1;32m      2\u001b[0m g\u001b[38;5;241m.\u001b[39mshow()\n",
      "\u001b[0;31mNameError\u001b[0m: name 'LiveGraph' is not defined"
     ]
    }
   ],
   "source": [
    "g = LiveGraph(filename = \"2025_8_15.csv\")\n",
    "g.show()"
   ]
  },
  {
   "cell_type": "markdown",
   "id": "4ea989cd-de2a-40e4-8294-aa08a23a645d",
   "metadata": {},
   "source": [
    "# Save your results!"
   ]
  },
  {
   "cell_type": "code",
   "execution_count": 130,
   "id": "98d59fc4-c6ae-4c13-a437-2be80b0e4cd1",
   "metadata": {},
   "outputs": [],
   "source": [
    "g.df.to_csv(r'C:\\Users\\Wiggi\\Desktop\\James\\temp_data\\1_10_2025.csv')"
   ]
  },
  {
   "cell_type": "code",
   "execution_count": 131,
   "id": "d1c7ccc1-9d0e-418e-ab06-b8284e934870",
   "metadata": {},
   "outputs": [
    {
     "name": "stdout",
     "output_type": "stream",
     "text": [
      "Defaulting to user installation because normal site-packages is not writeable\n",
      "Requirement already satisfied: pyserial in /Users/joshuabeard/Library/Python/3.9/lib/python/site-packages (3.5)\n",
      "Requirement already satisfied: pandas in /Users/joshuabeard/Library/Python/3.9/lib/python/site-packages (2.3.1)\n",
      "Requirement already satisfied: numpy in /Users/joshuabeard/Library/Python/3.9/lib/python/site-packages (2.0.2)\n",
      "Requirement already satisfied: matplotlib in /Users/joshuabeard/Library/Python/3.9/lib/python/site-packages (3.9.4)\n",
      "Requirement already satisfied: ipywidgets in /Users/joshuabeard/Library/Python/3.9/lib/python/site-packages (8.1.7)\n",
      "Requirement already satisfied: tzdata>=2022.7 in /Users/joshuabeard/Library/Python/3.9/lib/python/site-packages (from pandas) (2025.2)\n",
      "Requirement already satisfied: pytz>=2020.1 in /Users/joshuabeard/Library/Python/3.9/lib/python/site-packages (from pandas) (2025.2)\n",
      "Requirement already satisfied: python-dateutil>=2.8.2 in /Users/joshuabeard/Library/Python/3.9/lib/python/site-packages (from pandas) (2.9.0.post0)\n",
      "Requirement already satisfied: packaging>=20.0 in /Users/joshuabeard/Library/Python/3.9/lib/python/site-packages (from matplotlib) (25.0)\n",
      "Requirement already satisfied: pillow>=8 in /Users/joshuabeard/Library/Python/3.9/lib/python/site-packages (from matplotlib) (11.3.0)\n",
      "Requirement already satisfied: kiwisolver>=1.3.1 in /Users/joshuabeard/Library/Python/3.9/lib/python/site-packages (from matplotlib) (1.4.7)\n",
      "Requirement already satisfied: contourpy>=1.0.1 in /Users/joshuabeard/Library/Python/3.9/lib/python/site-packages (from matplotlib) (1.3.0)\n",
      "Requirement already satisfied: cycler>=0.10 in /Users/joshuabeard/Library/Python/3.9/lib/python/site-packages (from matplotlib) (0.12.1)\n",
      "Requirement already satisfied: importlib-resources>=3.2.0 in /Users/joshuabeard/Library/Python/3.9/lib/python/site-packages (from matplotlib) (6.5.2)\n",
      "Requirement already satisfied: pyparsing>=2.3.1 in /Users/joshuabeard/Library/Python/3.9/lib/python/site-packages (from matplotlib) (3.2.3)\n",
      "Requirement already satisfied: fonttools>=4.22.0 in /Users/joshuabeard/Library/Python/3.9/lib/python/site-packages (from matplotlib) (4.59.0)\n",
      "Requirement already satisfied: widgetsnbextension~=4.0.14 in /Users/joshuabeard/Library/Python/3.9/lib/python/site-packages (from ipywidgets) (4.0.14)\n",
      "Requirement already satisfied: jupyterlab_widgets~=3.0.15 in /Users/joshuabeard/Library/Python/3.9/lib/python/site-packages (from ipywidgets) (3.0.15)\n",
      "Requirement already satisfied: traitlets>=4.3.1 in /Users/joshuabeard/Library/Python/3.9/lib/python/site-packages (from ipywidgets) (5.14.3)\n",
      "Requirement already satisfied: ipython>=6.1.0 in /Users/joshuabeard/Library/Python/3.9/lib/python/site-packages (from ipywidgets) (8.18.1)\n",
      "Requirement already satisfied: comm>=0.1.3 in /Users/joshuabeard/Library/Python/3.9/lib/python/site-packages (from ipywidgets) (0.2.2)\n",
      "Requirement already satisfied: zipp>=3.1.0 in /Users/joshuabeard/Library/Python/3.9/lib/python/site-packages (from importlib-resources>=3.2.0->matplotlib) (3.23.0)\n",
      "Requirement already satisfied: pygments>=2.4.0 in /Users/joshuabeard/Library/Python/3.9/lib/python/site-packages (from ipython>=6.1.0->ipywidgets) (2.19.2)\n",
      "Requirement already satisfied: stack-data in /Users/joshuabeard/Library/Python/3.9/lib/python/site-packages (from ipython>=6.1.0->ipywidgets) (0.6.3)\n",
      "Requirement already satisfied: jedi>=0.16 in /Users/joshuabeard/Library/Python/3.9/lib/python/site-packages (from ipython>=6.1.0->ipywidgets) (0.19.2)\n",
      "Requirement already satisfied: typing-extensions in /Users/joshuabeard/Library/Python/3.9/lib/python/site-packages (from ipython>=6.1.0->ipywidgets) (4.14.1)\n",
      "Requirement already satisfied: exceptiongroup in /Users/joshuabeard/Library/Python/3.9/lib/python/site-packages (from ipython>=6.1.0->ipywidgets) (1.3.0)\n",
      "Requirement already satisfied: prompt-toolkit<3.1.0,>=3.0.41 in /Users/joshuabeard/Library/Python/3.9/lib/python/site-packages (from ipython>=6.1.0->ipywidgets) (3.0.51)\n",
      "Requirement already satisfied: matplotlib-inline in /Users/joshuabeard/Library/Python/3.9/lib/python/site-packages (from ipython>=6.1.0->ipywidgets) (0.1.7)\n",
      "Requirement already satisfied: decorator in /Users/joshuabeard/Library/Python/3.9/lib/python/site-packages (from ipython>=6.1.0->ipywidgets) (5.2.1)\n",
      "Requirement already satisfied: pexpect>4.3 in /Users/joshuabeard/Library/Python/3.9/lib/python/site-packages (from ipython>=6.1.0->ipywidgets) (4.9.0)\n",
      "Requirement already satisfied: parso<0.9.0,>=0.8.4 in /Users/joshuabeard/Library/Python/3.9/lib/python/site-packages (from jedi>=0.16->ipython>=6.1.0->ipywidgets) (0.8.4)\n",
      "Requirement already satisfied: ptyprocess>=0.5 in /Users/joshuabeard/Library/Python/3.9/lib/python/site-packages (from pexpect>4.3->ipython>=6.1.0->ipywidgets) (0.7.0)\n",
      "Requirement already satisfied: wcwidth in /Users/joshuabeard/Library/Python/3.9/lib/python/site-packages (from prompt-toolkit<3.1.0,>=3.0.41->ipython>=6.1.0->ipywidgets) (0.2.13)\n",
      "Requirement already satisfied: six>=1.5 in /Library/Developer/CommandLineTools/Library/Frameworks/Python3.framework/Versions/3.9/lib/python3.9/site-packages (from python-dateutil>=2.8.2->pandas) (1.15.0)\n",
      "Requirement already satisfied: pure-eval in /Users/joshuabeard/Library/Python/3.9/lib/python/site-packages (from stack-data->ipython>=6.1.0->ipywidgets) (0.2.3)\n",
      "Requirement already satisfied: executing>=1.2.0 in /Users/joshuabeard/Library/Python/3.9/lib/python/site-packages (from stack-data->ipython>=6.1.0->ipywidgets) (2.2.0)\n",
      "Requirement already satisfied: asttokens>=2.1.0 in /Users/joshuabeard/Library/Python/3.9/lib/python/site-packages (from stack-data->ipython>=6.1.0->ipywidgets) (3.0.0)\n",
      "\u001b[33mWARNING: You are using pip version 21.2.4; however, version 25.2 is available.\n",
      "You should consider upgrading via the '/Library/Developer/CommandLineTools/usr/bin/python3 -m pip install --upgrade pip' command.\u001b[0m\n",
      "Note: you may need to restart the kernel to use updated packages.\n"
     ]
    }
   ],
   "source": [
    "%pip install pyserial pandas numpy matplotlib ipywidgets\n"
   ]
  },
  {
   "cell_type": "code",
   "execution_count": 132,
   "id": "fa44e7b6-b467-43e1-b44f-e86e81916f02",
   "metadata": {},
   "outputs": [
    {
     "name": "stdout",
     "output_type": "stream",
     "text": [
      "['/dev/cu.BLTH', '/dev/cu.URT1', '/dev/cu.URT2', '/dev/cu.Bluetooth-Incoming-Port', '/dev/cu.usbmodem145301']\n"
     ]
    }
   ],
   "source": [
    "# Get the list of available serial ports\n",
    "ports = serial.tools.list_ports.comports()\n",
    "\n",
    "# Extract and display port device names\n",
    "port_list = [port.device for port in ports]\n",
    "print(port_list)"
   ]
  },
  {
   "cell_type": "code",
   "execution_count": 133,
   "id": "bdf3291a-6f3d-436e-b7ec-b082c21e3dcf",
   "metadata": {},
   "outputs": [
    {
     "ename": "SerialException",
     "evalue": "[Errno 16] could not open port /dev/cu.usbmodem145301: [Errno 16] Resource busy: '/dev/cu.usbmodem145301'",
     "output_type": "error",
     "traceback": [
      "\u001b[0;31m---------------------------------------------------------------------------\u001b[0m",
      "\u001b[0;31mOSError\u001b[0m                                   Traceback (most recent call last)",
      "File \u001b[0;32m~/Library/Python/3.9/lib/python/site-packages/serial/serialposix.py:322\u001b[0m, in \u001b[0;36mSerial.open\u001b[0;34m(self)\u001b[0m\n\u001b[1;32m    321\u001b[0m \u001b[38;5;28;01mtry\u001b[39;00m:\n\u001b[0;32m--> 322\u001b[0m     \u001b[38;5;28mself\u001b[39m\u001b[38;5;241m.\u001b[39mfd \u001b[38;5;241m=\u001b[39m \u001b[43mos\u001b[49m\u001b[38;5;241;43m.\u001b[39;49m\u001b[43mopen\u001b[49m\u001b[43m(\u001b[49m\u001b[38;5;28;43mself\u001b[39;49m\u001b[38;5;241;43m.\u001b[39;49m\u001b[43mportstr\u001b[49m\u001b[43m,\u001b[49m\u001b[43m \u001b[49m\u001b[43mos\u001b[49m\u001b[38;5;241;43m.\u001b[39;49m\u001b[43mO_RDWR\u001b[49m\u001b[43m \u001b[49m\u001b[38;5;241;43m|\u001b[39;49m\u001b[43m \u001b[49m\u001b[43mos\u001b[49m\u001b[38;5;241;43m.\u001b[39;49m\u001b[43mO_NOCTTY\u001b[49m\u001b[43m \u001b[49m\u001b[38;5;241;43m|\u001b[39;49m\u001b[43m \u001b[49m\u001b[43mos\u001b[49m\u001b[38;5;241;43m.\u001b[39;49m\u001b[43mO_NONBLOCK\u001b[49m\u001b[43m)\u001b[49m\n\u001b[1;32m    323\u001b[0m \u001b[38;5;28;01mexcept\u001b[39;00m \u001b[38;5;167;01mOSError\u001b[39;00m \u001b[38;5;28;01mas\u001b[39;00m msg:\n",
      "\u001b[0;31mOSError\u001b[0m: [Errno 16] Resource busy: '/dev/cu.usbmodem145301'",
      "\nDuring handling of the above exception, another exception occurred:\n",
      "\u001b[0;31mSerialException\u001b[0m                           Traceback (most recent call last)",
      "Cell \u001b[0;32mIn[133], line 1\u001b[0m\n\u001b[0;32m----> 1\u001b[0m \u001b[43mserial\u001b[49m\u001b[38;5;241;43m.\u001b[39;49m\u001b[43mSerial\u001b[49m\u001b[43m(\u001b[49m\u001b[38;5;124;43m'\u001b[39;49m\u001b[38;5;124;43m/dev/cu.usbmodem145301\u001b[39;49m\u001b[38;5;124;43m'\u001b[39;49m\u001b[43m,\u001b[49m\u001b[43m \u001b[49m\u001b[38;5;241;43m9600\u001b[39;49m\u001b[43m,\u001b[49m\u001b[43m \u001b[49m\u001b[43mtimeout\u001b[49m\u001b[38;5;241;43m=\u001b[39;49m\u001b[38;5;241;43m1.3\u001b[39;49m\u001b[43m)\u001b[49m\n",
      "File \u001b[0;32m~/Library/Python/3.9/lib/python/site-packages/serial/serialutil.py:244\u001b[0m, in \u001b[0;36mSerialBase.__init__\u001b[0;34m(self, port, baudrate, bytesize, parity, stopbits, timeout, xonxoff, rtscts, write_timeout, dsrdtr, inter_byte_timeout, exclusive, **kwargs)\u001b[0m\n\u001b[1;32m    241\u001b[0m     \u001b[38;5;28;01mraise\u001b[39;00m \u001b[38;5;167;01mValueError\u001b[39;00m(\u001b[38;5;124m'\u001b[39m\u001b[38;5;124munexpected keyword arguments: \u001b[39m\u001b[38;5;132;01m{!r}\u001b[39;00m\u001b[38;5;124m'\u001b[39m\u001b[38;5;241m.\u001b[39mformat(kwargs))\n\u001b[1;32m    243\u001b[0m \u001b[38;5;28;01mif\u001b[39;00m port \u001b[38;5;129;01mis\u001b[39;00m \u001b[38;5;129;01mnot\u001b[39;00m \u001b[38;5;28;01mNone\u001b[39;00m:\n\u001b[0;32m--> 244\u001b[0m     \u001b[38;5;28;43mself\u001b[39;49m\u001b[38;5;241;43m.\u001b[39;49m\u001b[43mopen\u001b[49m\u001b[43m(\u001b[49m\u001b[43m)\u001b[49m\n",
      "File \u001b[0;32m~/Library/Python/3.9/lib/python/site-packages/serial/serialposix.py:325\u001b[0m, in \u001b[0;36mSerial.open\u001b[0;34m(self)\u001b[0m\n\u001b[1;32m    323\u001b[0m \u001b[38;5;28;01mexcept\u001b[39;00m \u001b[38;5;167;01mOSError\u001b[39;00m \u001b[38;5;28;01mas\u001b[39;00m msg:\n\u001b[1;32m    324\u001b[0m     \u001b[38;5;28mself\u001b[39m\u001b[38;5;241m.\u001b[39mfd \u001b[38;5;241m=\u001b[39m \u001b[38;5;28;01mNone\u001b[39;00m\n\u001b[0;32m--> 325\u001b[0m     \u001b[38;5;28;01mraise\u001b[39;00m SerialException(msg\u001b[38;5;241m.\u001b[39merrno, \u001b[38;5;124m\"\u001b[39m\u001b[38;5;124mcould not open port \u001b[39m\u001b[38;5;132;01m{}\u001b[39;00m\u001b[38;5;124m: \u001b[39m\u001b[38;5;132;01m{}\u001b[39;00m\u001b[38;5;124m\"\u001b[39m\u001b[38;5;241m.\u001b[39mformat(\u001b[38;5;28mself\u001b[39m\u001b[38;5;241m.\u001b[39m_port, msg))\n\u001b[1;32m    326\u001b[0m \u001b[38;5;66;03m#~ fcntl.fcntl(self.fd, fcntl.F_SETFL, 0)  # set blocking\u001b[39;00m\n\u001b[1;32m    328\u001b[0m \u001b[38;5;28mself\u001b[39m\u001b[38;5;241m.\u001b[39mpipe_abort_read_r, \u001b[38;5;28mself\u001b[39m\u001b[38;5;241m.\u001b[39mpipe_abort_read_w \u001b[38;5;241m=\u001b[39m \u001b[38;5;28;01mNone\u001b[39;00m, \u001b[38;5;28;01mNone\u001b[39;00m\n",
      "\u001b[0;31mSerialException\u001b[0m: [Errno 16] could not open port /dev/cu.usbmodem145301: [Errno 16] Resource busy: '/dev/cu.usbmodem145301'"
     ]
    }
   ],
   "source": [
    "serial.Serial('/dev/cu.usbmodem145301', 9600, timeout=1.3)"
   ]
  },
  {
   "cell_type": "code",
   "execution_count": null,
   "id": "ff5183e8-e0b8-48a6-93b5-640c5bf16fd2",
   "metadata": {},
   "outputs": [],
   "source": []
  }
 ],
 "metadata": {
  "kernelspec": {
   "display_name": "Python 3 (ipykernel)",
   "language": "python",
   "name": "python3"
  },
  "language_info": {
   "codemirror_mode": {
    "name": "ipython",
    "version": 3
   },
   "file_extension": ".py",
   "mimetype": "text/x-python",
   "name": "python",
   "nbconvert_exporter": "python",
   "pygments_lexer": "ipython3",
   "version": "3.9.6"
  }
 },
 "nbformat": 4,
 "nbformat_minor": 5
}
